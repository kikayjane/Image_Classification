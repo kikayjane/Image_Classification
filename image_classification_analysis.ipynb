{
  "nbformat": 4,
  "nbformat_minor": 0,
  "metadata": {
    "colab": {
      "provenance": []
    },
    "kernelspec": {
      "name": "python3",
      "display_name": "Python 3"
    },
    "language_info": {
      "name": "python"
    }
  },
  "cells": [
    {
      "cell_type": "markdown",
      "source": [
        "## Introduction"
      ],
      "metadata": {
        "id": "hVBEq2o5kpna"
      }
    },
    {
      "cell_type": "markdown",
      "source": [
        "The purpose of this notebook is to develop a neural network-based image classification algorithm to classify handwritten digits. The goal of this is to build a neural network that can accurately distinguish between two specific digits, 0 and 1, from the widely-used MNIST dataset.\n",
        "\n",
        "The data used in this project comes from the MNIST dataset, a benchmark dataset in the field of machine learning and computer vision. MNIST stands for Modified National Institute of Standards and Technology database and contains a large collection of handwritten digits. Each image is 28x28 pixels, and labeled with the corresponding digit it represents."
      ],
      "metadata": {
        "id": "cThEXtpKksXd"
      }
    },
    {
      "cell_type": "markdown",
      "source": [
        "## Import Libraries"
      ],
      "metadata": {
        "id": "Lh_TjysolJMl"
      }
    },
    {
      "cell_type": "code",
      "source": [
        "import numpy as np\n",
        "import keras\n",
        "import tensorflow as tf\n",
        "from keras.datasets import mnist\n",
        "import matplotlib.pyplot as plt\n",
        "from keras import layers, regularizers, Sequential\n",
        "from keras.optimizers import Adam\n",
        "from sklearn.metrics import confusion_matrix"
      ],
      "metadata": {
        "id": "z61-8nUXlLx1"
      },
      "execution_count": 9,
      "outputs": []
    },
    {
      "cell_type": "code",
      "source": [
        "np.random.seed(42)\n",
        "tf.random.set_seed(42)"
      ],
      "metadata": {
        "id": "2Wk6jeg5orWQ"
      },
      "execution_count": 2,
      "outputs": []
    },
    {
      "cell_type": "markdown",
      "source": [
        "## Load Data\n"
      ],
      "metadata": {
        "id": "gouF1PYSlRoG"
      }
    },
    {
      "cell_type": "code",
      "source": [
        "# Load the MNIST dataset\n",
        "(train_images, train_labels), (test_images, test_labels) = mnist.load_data()"
      ],
      "metadata": {
        "colab": {
          "base_uri": "https://localhost:8080/"
        },
        "id": "tbWYYKjolV_l",
        "outputId": "8f832192-2add-4e78-e1ad-43e7eb011796"
      },
      "execution_count": 3,
      "outputs": [
        {
          "output_type": "stream",
          "name": "stdout",
          "text": [
            "Downloading data from https://storage.googleapis.com/tensorflow/tf-keras-datasets/mnist.npz\n",
            "11490434/11490434 [==============================] - 0s 0us/step\n"
          ]
        }
      ]
    },
    {
      "cell_type": "markdown",
      "source": [
        "## Train/Test Data"
      ],
      "metadata": {
        "id": "ySPKqUw12vwL"
      }
    },
    {
      "cell_type": "code",
      "source": [
        "train_filter = np.where((train_labels == 0) | (train_labels == 1))\n",
        "test_filter = np.where((test_labels == 0) | (test_labels == 1))\n",
        "\n",
        "train_images, train_labels = train_images[train_filter], train_labels[train_filter]\n",
        "test_images, test_labels = test_images[test_filter], test_labels[test_filter]\n",
        "\n",
        "# Normalize the images to [0, 1] range\n",
        "train_images = train_images.astype('float32') / 255.0\n",
        "test_images = test_images.astype('float32') / 255.0\n",
        "\n",
        "# Flatten the images (28x28 to 784)\n",
        "train_images = train_images.reshape((train_images.shape[0], 28 * 28))\n",
        "test_images = test_images.reshape((test_images.shape[0], 28 * 28))\n",
        "\n",
        "# Print the shape of the data\n",
        "print(f'Train images shape: {train_images.shape}')\n",
        "print(f'Test images shape: {test_images.shape}')"
      ],
      "metadata": {
        "colab": {
          "base_uri": "https://localhost:8080/"
        },
        "id": "eztM0dqd46hd",
        "outputId": "9c2c087f-1925-4a42-be96-49683c6f6990"
      },
      "execution_count": 4,
      "outputs": [
        {
          "output_type": "stream",
          "name": "stdout",
          "text": [
            "Train images shape: (12665, 784)\n",
            "Test images shape: (2115, 784)\n"
          ]
        }
      ]
    },
    {
      "cell_type": "code",
      "source": [
        "# Define the Neural Network Architecture\n",
        "def define_model(units, num_layers, activation, lr, l2):\n",
        "    model_layers = [\n",
        "        layers.Dense(units, activation=activation, kernel_regularizer=regularizers.L2(l2=l2), kernel_initializer=tf.keras.initializers.HeNormal())\n",
        "        ] * num_layers  # These are the main hidden layers\n",
        "    model_layers += [layers.Dense(1)]  # This is the output layer for binary classification\n",
        "    model = Sequential(model_layers)  # This just stacks all our layers on top of each other\n",
        "    model.compile(loss=tf.keras.losses.BinaryCrossentropy(from_logits=True), metrics=['accuracy'], optimizer=Adam(learning_rate=lr))  # This is a good loss/penalty function to use for binary classification\n",
        "\n",
        "    return model\n",
        "\n",
        "# Instantiate the neural network\n",
        "model = define_model(units=128, num_layers=2, activation='relu', lr=0.001, l2=0.001)\n"
      ],
      "metadata": {
        "id": "30S9Sk7i5JPY"
      },
      "execution_count": 5,
      "outputs": []
    },
    {
      "cell_type": "code",
      "source": [
        "# Training the model\n",
        "history = model.fit(train_images, train_labels, epochs=10, batch_size=64, validation_data=(test_images, test_labels))\n"
      ],
      "metadata": {
        "colab": {
          "base_uri": "https://localhost:8080/"
        },
        "id": "yvn8yL2l5ebc",
        "outputId": "9edb60a2-32a1-4dac-994f-ee66a5341d78"
      },
      "execution_count": 6,
      "outputs": [
        {
          "output_type": "stream",
          "name": "stdout",
          "text": [
            "Epoch 1/10\n",
            "198/198 [==============================] - 7s 14ms/step - loss: 0.1195 - accuracy: 0.9888 - val_loss: 0.0434 - val_accuracy: 0.9995\n",
            "Epoch 2/10\n",
            "198/198 [==============================] - 3s 14ms/step - loss: 0.0318 - accuracy: 0.9985 - val_loss: 0.0204 - val_accuracy: 0.9991\n",
            "Epoch 3/10\n",
            "198/198 [==============================] - 3s 13ms/step - loss: 0.0169 - accuracy: 0.9987 - val_loss: 0.0172 - val_accuracy: 0.9972\n",
            "Epoch 4/10\n",
            "198/198 [==============================] - 3s 17ms/step - loss: 0.0135 - accuracy: 0.9983 - val_loss: 0.0105 - val_accuracy: 0.9991\n",
            "Epoch 5/10\n",
            "198/198 [==============================] - 3s 14ms/step - loss: 0.0098 - accuracy: 0.9987 - val_loss: 0.0091 - val_accuracy: 0.9991\n",
            "Epoch 6/10\n",
            "198/198 [==============================] - 3s 14ms/step - loss: 0.0102 - accuracy: 0.9983 - val_loss: 0.0098 - val_accuracy: 0.9976\n",
            "Epoch 7/10\n",
            "198/198 [==============================] - 2s 8ms/step - loss: 0.0087 - accuracy: 0.9990 - val_loss: 0.0077 - val_accuracy: 0.9991\n",
            "Epoch 8/10\n",
            "198/198 [==============================] - 2s 9ms/step - loss: 0.0089 - accuracy: 0.9983 - val_loss: 0.0073 - val_accuracy: 0.9981\n",
            "Epoch 9/10\n",
            "198/198 [==============================] - 2s 9ms/step - loss: 0.0094 - accuracy: 0.9986 - val_loss: 0.0071 - val_accuracy: 0.9981\n",
            "Epoch 10/10\n",
            "198/198 [==============================] - 2s 8ms/step - loss: 0.0082 - accuracy: 0.9989 - val_loss: 0.0058 - val_accuracy: 0.9995\n"
          ]
        }
      ]
    },
    {
      "cell_type": "markdown",
      "source": [
        "## Analysis"
      ],
      "metadata": {
        "id": "RS9A1O451nvN"
      }
    },
    {
      "cell_type": "code",
      "source": [
        "# Evaluate the model\n",
        "test_loss, test_accuracy = model.evaluate(test_images, test_labels)\n",
        "print(f'Test accuracy: {test_accuracy * 100:.2f}%')\n"
      ],
      "metadata": {
        "colab": {
          "base_uri": "https://localhost:8080/"
        },
        "id": "Jl5TZTDp5pMC",
        "outputId": "39bb0636-fcf4-40d2-f88f-f3e2f71dbd81"
      },
      "execution_count": 7,
      "outputs": [
        {
          "output_type": "stream",
          "name": "stdout",
          "text": [
            "67/67 [==============================] - 0s 2ms/step - loss: 0.0058 - accuracy: 0.9995\n",
            "Test accuracy: 99.95%\n"
          ]
        }
      ]
    },
    {
      "cell_type": "code",
      "source": [
        "# Generate Confusion Matrix\n",
        "y_pred = (model.predict(test_images) > 0.5).astype(\"int32\")\n",
        "cm = confusion_matrix(test_labels, y_pred)\n",
        "accuracy = sum(y_pred.flatten() == test_labels) / len(test_labels)\n",
        "print(f'Confusion Matrix Accuracy: {accuracy * 100:.2f}%')\n",
        "print(cm)"
      ],
      "metadata": {
        "colab": {
          "base_uri": "https://localhost:8080/"
        },
        "id": "V7cNd51rWDUz",
        "outputId": "c0c23724-c0ae-4232-ac59-84508beb6fbb"
      },
      "execution_count": 10,
      "outputs": [
        {
          "output_type": "stream",
          "name": "stdout",
          "text": [
            "67/67 [==============================] - 0s 4ms/step\n",
            "Confusion Matrix Accuracy: 99.95%\n",
            "[[ 979    1]\n",
            " [   0 1135]]\n"
          ]
        }
      ]
    },
    {
      "cell_type": "code",
      "source": [
        "# Visualize predictions\n",
        "def visualize_predictions(images, labels, predictions):\n",
        "    plt.figure(figsize=(10, 10))\n",
        "    for i in range(25):\n",
        "        plt.subplot(5, 5, i+1)\n",
        "        plt.xticks([])\n",
        "        plt.yticks([])\n",
        "        plt.grid(False)\n",
        "        plt.imshow(images[i].reshape(28, 28), cmap=plt.cm.binary)\n",
        "        plt.xlabel(f'True: {labels[i]}, Pred: {int(predictions[i])}')\n",
        "    plt.show()\n",
        "\n",
        "# Get predictions\n",
        "predictions = model.predict(test_images[:25])\n",
        "predictions = tf.round(tf.sigmoid(predictions))\n",
        "visualize_predictions(test_images, test_labels, predictions)\n"
      ],
      "metadata": {
        "colab": {
          "base_uri": "https://localhost:8080/",
          "height": 844
        },
        "id": "1OxVbP7-5rYa",
        "outputId": "796eddde-a4ba-464a-9d59-ee5fab24f97e"
      },
      "execution_count": 11,
      "outputs": [
        {
          "output_type": "stream",
          "name": "stdout",
          "text": [
            "1/1 [==============================] - 0s 32ms/step\n"
          ]
        },
        {
          "output_type": "display_data",
          "data": {
            "text/plain": [
              "<Figure size 1000x1000 with 25 Axes>"
            ],
            "image/png": "[encoded data removed]"
          },
          "metadata": {}
        }
      ]
    },
    {
      "cell_type": "markdown",
      "source": [
        "## Conclusion"
      ],
      "metadata": {
        "id": "VxMVfymG7pBD"
      }
    },
    {
      "cell_type": "markdown",
      "source": [
        "In conclusion, neural network-based image classification algorithm capable of distinguishing between two specific digits, 0 and 1, from the MNIST dataset was successfully developed. Through careful data processing, model definition, and training, we achieved high accuracy in classifying the handwritten digits."
      ],
      "metadata": {
        "id": "Iz4BOGS47rDJ"
      }
    }
  ]
}